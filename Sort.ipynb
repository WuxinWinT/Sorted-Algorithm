{
 "cells": [
  {
   "cell_type": "markdown",
   "metadata": {},
   "source": [
    "冒泡排序：\n",
    "\n",
    "两两交换，更大值在后面   O(n2)"
   ]
  },
  {
   "cell_type": "code",
   "execution_count": 1,
   "metadata": {},
   "outputs": [],
   "source": [
    "# 冒泡排序\n",
    "def bubbleSort(arr):\n",
    "    length = len(arr)\n",
    "    for i in range(length - 1):\n",
    "        for j in range(length - 1 - i):\n",
    "            if arr[j] > arr[j-1]:  #相邻元素两两对比\n",
    "                arr[j+1],arr[j] = arr[j],arr[j+1]  #元素交换,更大的元素在后面\n",
    "    return arr"
   ]
  },
  {
   "cell_type": "markdown",
   "metadata": {},
   "source": [
    "选择排序：\n",
    "\n",
    "找出最小值的位置，排在最前面（排好最小值的位置不算）   O(n2)"
   ]
  },
  {
   "cell_type": "code",
   "execution_count": 2,
   "metadata": {},
   "outputs": [],
   "source": [
    "# 选择排序\n",
    "def selectionSort(arr):\n",
    "    length = len(arr)\n",
    "    for i in range(length - 1):\n",
    "        minIndex = i\n",
    "        for j in range(i+1,length):   #寻找最小的数\n",
    "            if arr[j] < arr[minIndex]:   #将最小数的索引保存\n",
    "                minIndex = j\n",
    "        arr[i],arr[minIndex] = arr[minIndex],arr[i]\n",
    "    return arr"
   ]
  },
  {
   "cell_type": "markdown",
   "metadata": {},
   "source": [
    "插入排序：\n",
    "\n",
    "对于未排序数据，在已排序序列（从第一个元素开始认为）中从后向前扫描（从大到小排序）"
   ]
  },
  {
   "cell_type": "code",
   "execution_count": 3,
   "metadata": {},
   "outputs": [],
   "source": [
    "#插入排序\n",
    "def insertSort(arr):\n",
    "    length = len(arr)\n",
    "    for i in range(1,length): #第一个元素已经排序\n",
    "        preIndex = i - 1\n",
    "        current = arr[i]\n",
    "        while (preIndex > 0 and current < arr[preIndex]):\n",
    "            arr[preIndex+1] = arr[preIndex]  #若前值更大，则向后退一个\n",
    "            preIndex -= 1\n",
    "        arr[preIndex+1] = current\n",
    "    return arr"
   ]
  },
  {
   "cell_type": "markdown",
   "metadata": {},
   "source": [
    "（未看)希尔排序：\n",
    "\n",
    "是简单插入排序的改进版。它与插入排序的不同之处在于，它会优先比较距离较远的元素。希尔排序又叫缩小增量排序\n",
    "核心在于间隔序列(gap)的设定。既可以提前设定好间隔序列，也可以动态的定义间隔序列"
   ]
  },
  {
   "cell_type": "code",
   "execution_count": 5,
   "metadata": {},
   "outputs": [],
   "source": [
    "#希尔排序\n",
    "def shellSort(arr):\n",
    "    length = len(arr)\n",
    "    gap = 1\n",
    "    while gap<(length/3):\n",
    "        gap = gap*3 +1\n",
    "    while gap >= 1:\n",
    "        for i in range(gap,length):\n",
    "            j = i\n",
    "            while j >=gap and arr[j]<arr[j-gap]:\n",
    "                arr[j],arr[j-gap] = arr[j-gap],arr[j]\n",
    "                j -=gap\n",
    "        gap = gap//3\n",
    "    return arr"
   ]
  },
  {
   "cell_type": "markdown",
   "metadata": {},
   "source": [
    "## 归并排序\n",
    "\n",
    "采用分治法。先使每个子序列有序，再使子序列段间有序\n",
    "\n",
    "* 把长度为n的输入序列分成两个长度为n/2的子序列；\n",
    "* 对这两个子序列分别采用归并排序；\n",
    "* 将两个排序好的子序列合并成一个最终的排序序列。\n",
    "\n",
    "始终都是O(nlogn）的时间复杂度。代价是需要额外的内存空间"
   ]
  },
  {
   "cell_type": "code",
   "execution_count": 7,
   "metadata": {},
   "outputs": [],
   "source": [
    "#归并排序\n",
    "def mergeSort(arr):\n",
    "    length = len(arr)\n",
    "    if length < 2:\n",
    "        return arr\n",
    "    middle = length // 2 #向下整除 6 // 4 = 1\n",
    "    left = mergeSort(arr[:middle])  # 从 0 到 middle - 1  \n",
    "    right = mergeSort(arr[middle:]) # 从 middle 到 end\n",
    "    return merge(left,right)\n",
    "def merge(left,right):\n",
    "    l,r  = 0,0\n",
    "    result = []\n",
    "    while (l < len(left) and r < len(right)): \n",
    "        if left[l] < right[r]:\n",
    "            result.append(left[l])\n",
    "            l += 1\n",
    "        else:\n",
    "            result.append(right[r])\n",
    "            r +=1\n",
    "    result += left[l:]  #加上剩下的\n",
    "    result += right[r:]\n",
    "    return result\n"
   ]
  },
  {
   "cell_type": "markdown",
   "metadata": {},
   "source": [
    "快速排序：分了三个区（分治法）\n",
    "\n",
    "* 从数列中挑出一个元素，称为 “基准”（pivot）；\n",
    "* 重新排序数列，所有元素比基准值小的摆放在基准前面，所有元素比基准值大的摆在基准的后面（相同的数可以到任一边）。在这个分区退出之后，该基准就处于数列的中间位置。这个称为分区（partition）操作；\n",
    "* 递归地（recursive）把小于基准值元素的子数列和大于基准值元素的子数列排序。"
   ]
  },
  {
   "cell_type": "code",
   "execution_count": 8,
   "metadata": {},
   "outputs": [],
   "source": [
    "#快速排序\n",
    "def quickSort(arr):\n",
    "    if len(arr) < 2:\n",
    "        return arr\n",
    "    else:\n",
    "        key = arr[0] #基准值\n",
    "        low = [value for value in arr[1:] if value < key] \n",
    "        high = [value for value in arr[1:] if value > key]\n",
    "        equal = [value for value in arr[1:] if value == key] \n",
    "    return quickSort(low)+equal+quickSort(high)   #递归"
   ]
  },
  {
   "cell_type": "markdown",
   "metadata": {},
   "source": [
    "## 堆排序（重点）\n",
    "### 之前电话面试一个公司时，面试官让写一个堆排序\n",
    "\n",
    "堆积是一个近似完全二叉树的结构，并同时满足堆积的性质：即子结点的键值或索引总是小于（或者大于）它的父节点。**最大堆和最小堆**\n",
    "\n",
    "* 首先将待排序的数组构造出一个大根堆\n",
    "* 取出这个大根堆的堆顶节点(最大值)，与堆的最下最右的元素进行交换，然后把剩下的元素再构造出一个大根堆\n",
    "* 重复第二步，直到这个大根堆的长度为1，此时完成排序。"
   ]
  },
  {
   "cell_type": "markdown",
   "metadata": {},
   "source": [
    "根据问题进行编码，由于数组下标是从0开始的，而树的节点从1开始，我们还需要引入一个辅助位置，Python提供的原始数据类型list实际上是一个线性表(Array),由于我们需要在序列最左边追加一个辅助位，线性表这样做的话开销很大，需要把数组整体向右移动，所以list类型没有提供形如appendleft的函数，但是在一个链表里做这种操作就很简单了，Python的collections库里提供了链表结构deque，我们先使用它初始化一个无序序列\n",
    "\n",
    "详细说明\n",
    "\n",
    "https://www.baidu.com/link?url=GdsZ9BDvTyWN4YwMNt77-3zE8j56MkimghzVVQbSWOZzmGn1bJjS1ZcrIkB3pktM&wd=&eqid=9f25d2c000008910000000035c9a2a91"
   ]
  },
  {
   "cell_type": "code",
   "execution_count": 9,
   "metadata": {},
   "outputs": [],
   "source": [
    "#堆排序\n",
    "def heapSort(arr):\n",
    "    from collections import deque\n",
    "    L = deque(arr)\n",
    "    L.appendleft(0) #  由于数组下标是从0开始的，而树的节点从1开始，我们还需要引入一个辅助位置\n",
    "    \n",
    "    length = len(L)-1  #去掉那个0\n",
    "    first = length//2   #调整前一半值即可，因为 j = 2 * i, 后一半无左右子数\n",
    "    for i in range(first):  #从第一个值开始调整，变成最大堆\n",
    "        heap_adjust(L,first-i,length)\n",
    "    for i in range(length-1):  #取走最大数后，再次调整\n",
    "        L = swap(L,1,length-i)\n",
    "        heap_adjust(L,1,length-i-1)   \n",
    "    return [L[i] for i in range(1,len(L))]  #从小到大，去掉0\n",
    "    \n",
    "### 核心代码：堆调整函数heap_adjust\n",
    "def heap_adjust(L,start,end): #调整根节点为最大值\n",
    "    temp = L[start]\n",
    "    i = start\n",
    "    j = 2 * i #该i节点的左子树坐标\n",
    "    while j <= end:\n",
    "        if (j < end) and (L[j] < L[j+1]): #左右子树比较，找到最大值\n",
    "            j += 1\n",
    "        if temp < L[j]:  #调整根节点为最大值\n",
    "            L[i] = L[j]\n",
    "            i = j\n",
    "            j = 2 * i\n",
    "        else:\n",
    "            break\n",
    "    L[i] = temp  #此时i = j \n",
    "    \n",
    "def swap_param(L, i, j): #交换堆顶元素和最后元素即可\n",
    "    L[i], L[j] = L[j], L[i]\n",
    "    return L"
   ]
  },
  {
   "cell_type": "markdown",
   "metadata": {},
   "source": [
    "8、计数排序（Counting Sort）"
   ]
  },
  {
   "cell_type": "markdown",
   "metadata": {},
   "source": [
    "9、桶排序（Bucket Sort）"
   ]
  },
  {
   "cell_type": "markdown",
   "metadata": {},
   "source": [
    "10、基数排序（Radix Sort）"
   ]
  },
  {
   "cell_type": "code",
   "execution_count": null,
   "metadata": {},
   "outputs": [],
   "source": []
  }
 ],
 "metadata": {
  "kernelspec": {
   "display_name": "Python 3",
   "language": "python",
   "name": "python3"
  },
  "language_info": {
   "codemirror_mode": {
    "name": "ipython",
    "version": 3
   },
   "file_extension": ".py",
   "mimetype": "text/x-python",
   "name": "python",
   "nbconvert_exporter": "python",
   "pygments_lexer": "ipython3",
   "version": "3.6.5"
  }
 },
 "nbformat": 4,
 "nbformat_minor": 2
}
